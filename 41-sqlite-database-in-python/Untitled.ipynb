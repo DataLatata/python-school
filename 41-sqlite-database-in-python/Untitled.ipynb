{
 "cells": [
  {
   "cell_type": "code",
   "execution_count": 1,
   "metadata": {},
   "outputs": [],
   "source": [
    "import sqlite3\n",
    "\n",
    "con = sqlite3.connect(\"test.db\")\n",
    "cur = con.cursor()"
   ]
  },
  {
   "cell_type": "code",
   "execution_count": 4,
   "metadata": {},
   "outputs": [],
   "source": [
    "with con: \n",
    "    cur.execute(\"\"\"\n",
    "        CREATE TABLE user (\n",
    "            id INT NOT NULL PRIMARY KEY,\n",
    "            name TEXT,\n",
    "            age INTEGER\n",
    "        );\n",
    "    \"\"\")"
   ]
  },
  {
   "cell_type": "code",
   "execution_count": 5,
   "metadata": {},
   "outputs": [],
   "source": [
    "data = (1, \"Sasha\", 32)\n",
    "with con:\n",
    "    cur.execute(\"INSERT INTO user (id, name, age) values(?, ?, ?)\", data)"
   ]
  },
  {
   "cell_type": "code",
   "execution_count": 6,
   "metadata": {},
   "outputs": [],
   "source": [
    "query = 'INSERT INTO USER (id, name, age) values(?, ?, ?)'\n",
    "data = [\n",
    "    (2, 'Vova', 25),\n",
    "    (3, 'Anna', 21),\n",
    "    (4, 'Kolya', 19)\n",
    "]\n",
    "with con: \n",
    "    cur.executemany(query, data)"
   ]
  },
  {
   "cell_type": "code",
   "execution_count": 20,
   "metadata": {},
   "outputs": [
    {
     "data": {
      "text/plain": [
       "(1, 'Sasha', 32)"
      ]
     },
     "execution_count": 20,
     "metadata": {},
     "output_type": "execute_result"
    }
   ],
   "source": [
    "name = ('Vova',)\n",
    "cur.execute(\"SELECT * FROM user\").fetchone()"
   ]
  },
  {
   "cell_type": "code",
   "execution_count": 12,
   "metadata": {},
   "outputs": [
    {
     "data": {
      "text/plain": [
       "[(1, 'Sasha', 32), (2, 'Vova', 25), (3, 'Anna', 21), (4, 'Kolya', 19)]"
      ]
     },
     "execution_count": 12,
     "metadata": {},
     "output_type": "execute_result"
    }
   ],
   "source": [
    "cur.execute(\"SELECT * FROM user\").fetchall()"
   ]
  },
  {
   "cell_type": "markdown",
   "metadata": {},
   "source": [
    "## Создаем таблицу языков"
   ]
  },
  {
   "cell_type": "code",
   "execution_count": 13,
   "metadata": {},
   "outputs": [],
   "source": [
    "with con:\n",
    "    cur.execute(\"\"\"\n",
    "        CREATE TABLE language (\n",
    "            id INT NOT NULL PRIMARY KEY,\n",
    "            name TEXT\n",
    "        );\n",
    "    \"\"\")"
   ]
  },
  {
   "cell_type": "code",
   "execution_count": 15,
   "metadata": {},
   "outputs": [],
   "source": [
    "with con:\n",
    "    cur.execute(\"\"\"\n",
    "        CREATE TABLE user_language (\n",
    "            user_id INT,\n",
    "            language_id INT,\n",
    "            PRIMARY KEY(user_id, language_id),\n",
    "            FOREIGN KEY(user_id) REFERENCES user(id),\n",
    "            FOREIGN KEY(language_id) REFERENCES language(id)\n",
    "        );\n",
    "    \"\"\")"
   ]
  },
  {
   "cell_type": "code",
   "execution_count": 16,
   "metadata": {},
   "outputs": [],
   "source": [
    "data = [\n",
    "    (1, \"english\"),\n",
    "    (2, \"spanish\"),\n",
    "    (3, \"french\")\n",
    "]\n",
    "with con:\n",
    "    cur.executemany(\"INSERT INTO language VALUES(?, ?)\", data)"
   ]
  },
  {
   "cell_type": "code",
   "execution_count": 17,
   "metadata": {},
   "outputs": [],
   "source": [
    "data = [\n",
    "    (1, 2), # Саша знает испанский\n",
    "    (2, 1), # Вова знает английский\n",
    "    (2, 2), # Вова еще знает испанский\n",
    "    (3, 3), # Анна знает французский  \n",
    "]\n",
    "with con:\n",
    "    cur.executemany(\"INSERT INTO user_language VALUES(?, ?)\", data)"
   ]
  },
  {
   "cell_type": "code",
   "execution_count": 19,
   "metadata": {},
   "outputs": [
    {
     "data": {
      "text/plain": [
       "[('Sasha', 'spanish'),\n",
       " ('Vova', 'english'),\n",
       " ('Vova', 'spanish'),\n",
       " ('Anna', 'french')]"
      ]
     },
     "execution_count": 19,
     "metadata": {},
     "output_type": "execute_result"
    }
   ],
   "source": [
    "cur.execute(\"\"\"\n",
    "    SELECT user.name, language.name \n",
    "    FROM user, language, user_language\n",
    "    WHERE (user.id = user_language.user_id AND\n",
    "           language.id = user_language.language_id)\n",
    "    \"\"\").fetchall()"
   ]
  },
  {
   "cell_type": "code",
   "execution_count": 21,
   "metadata": {},
   "outputs": [],
   "source": [
    "con.close()"
   ]
  }
 ],
 "metadata": {
  "kernelspec": {
   "display_name": "Python 3",
   "language": "python",
   "name": "python3"
  },
  "language_info": {
   "codemirror_mode": {
    "name": "ipython",
    "version": 3
   },
   "file_extension": ".py",
   "mimetype": "text/x-python",
   "name": "python",
   "nbconvert_exporter": "python",
   "pygments_lexer": "ipython3",
   "version": "3.8.5"
  }
 },
 "nbformat": 4,
 "nbformat_minor": 4
}
